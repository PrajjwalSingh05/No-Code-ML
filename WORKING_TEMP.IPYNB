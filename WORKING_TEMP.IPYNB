{
 "cells": [
  {
   "cell_type": "code",
   "execution_count": 1,
   "metadata": {},
   "outputs": [],
   "source": [
    " parms={\n",
    "        \"classifier__n_estimators\":[50,100,150,200,250],\n",
    "        'classifier__criterion':[\"squared_error\", \"absolute_error\", \"poisson\"],\n",
    "        'classifier__max_depth':[10,15,20,25,30],\n",
    "    }"
   ]
  },
  {
   "cell_type": "code",
   "execution_count": 9,
   "metadata": {},
   "outputs": [],
   "source": [
    "list=[]\n",
    "par={}"
   ]
  },
  {
   "cell_type": "code",
   "execution_count": 10,
   "metadata": {},
   "outputs": [],
   "source": [
    "str=\"classifier__\""
   ]
  },
  {
   "cell_type": "code",
   "execution_count": 11,
   "metadata": {},
   "outputs": [],
   "source": [
    "par[str+\"n_estimators\"]=[5,20,30,40]"
   ]
  },
  {
   "cell_type": "code",
   "execution_count": 12,
   "metadata": {},
   "outputs": [
    {
     "data": {
      "text/plain": [
       "{'classifier__n_estimators': [5, 20, 30, 40]}"
      ]
     },
     "execution_count": 12,
     "metadata": {},
     "output_type": "execute_result"
    }
   ],
   "source": [
    "par"
   ]
  },
  {
   "cell_type": "code",
   "execution_count": null,
   "metadata": {},
   "outputs": [],
   "source": [
    "'classifier__criterion':[\"squared_error\", \"absolute_error\", \"poisson\"],"
   ]
  },
  {
   "cell_type": "code",
   "execution_count": 4,
   "metadata": {},
   "outputs": [],
   "source": [
    " criterion=[\"criterion\"]"
   ]
  },
  {
   "cell_type": "code",
   "execution_count": 3,
   "metadata": {},
   "outputs": [],
   "source": [
    " criterion_list=[\"squared_error\", \"absolute_error\", \"poisson\"]"
   ]
  },
  {
   "cell_type": "code",
   "execution_count": 5,
   "metadata": {},
   "outputs": [
    {
     "data": {
      "text/plain": [
       "['criterion', 'squared_error', 'absolute_error', 'poisson']"
      ]
     },
     "execution_count": 5,
     "metadata": {},
     "output_type": "execute_result"
    }
   ],
   "source": [
    "criterion+criterion_list"
   ]
  },
  {
   "cell_type": "code",
   "execution_count": null,
   "metadata": {},
   "outputs": [],
   "source": [
    "  def download_interface_random_forest_regression(self):\n",
    "#         st.download_button(\"Download Model\",data=pickle.dumps(self.model_file),file_name=\"model.pkl\", )\n",
    "#         with st.form(\"Form1\"):    \n",
    "#                 parameter_list=[]\n",
    "# # ***********************************************Uploading File***************************************************\n",
    "#                 file = st.file_uploader(\"Upload an image\",type=[\"csv\",\"xlsx\"])\n",
    "#                 prediction_column=st.text_input(\"Enter predictiion\")\n",
    "#                 st.write(prediction_column)\n",
    "#                 # input_col=st.slider (\"Number of input\",3,1000)\n",
    "#                 input_col=st.number_input(\"Input column\",1,1000 ,help=\"Step up is 5\")\n",
    "#                 # parameter_list.append(input_col)\n",
    "\n",
    "#                 criterion=st.selectbox(\"Choose Criterion\",[\"absolute_error\",\"squared_error\"])\n",
    "# # ***********************************************Creating Max  Feature Parameter**********************************\n",
    "#                 maxfeature=st.selectbox(\"Max_features\",[\"sqrt\",\"log2\",\"None\"])\n",
    "           \n",
    "# # ***********************************************Creating Max  Min_Sample_split Parameter*************************                \n",
    "#                 # st.title(\"min_samples_split\")\n",
    "#                 samples_split=st.number_input(\"Min_samples_split\",1,20 ,help=\"Step up is 1\")\n",
    "# # ***********************************************Creating n_estimator Parameter***********************************\n",
    "#                 # st.title(\"n_estimator\")\n",
    "#                 n_estimators=st.number_input(\"N_estimator\",100,1000 ,help=\"Step up is 5\")\n",
    "#                 submit = st.form_submit_button(\"Submit\")\n",
    "# # ***********************************************Clicking On submit button Parameter******************************\n",
    "#                 if submit:\n",
    "#                     print(\"submiting\")\n",
    "#                     print(\"submiting\")\n",
    "#                     print(\"submiting\")\n",
    "#                     print(\"submiting\")\n",
    "#                     print(\"submiting\")\n",
    "#                     print(\"submiting\")\n",
    "#                     parameter_list.append(input_col)\n",
    "#                     parameter_list.append(criterion)\n",
    "#                     parameter_list.append(maxfeature)\n",
    "#                     parameter_list.append(samples_split)\n",
    "#                     parameter_list.append(n_estimators)\n",
    "#                     st.write(type(parameter_list))\n",
    "#                     st.write(type(parameter_list))\n",
    "#                     st.write(\"working on download interface\")\n",
    "#                     st.write(\"working on download interface\")\n",
    "#                     st.write(\"working on download interface\")\n",
    "#                     if file is None:\n",
    "#                         st.warning(\"Please Upload a file\")\n",
    "#                     data=self.data_extract(file)\n",
    "#                     maxcol=data.shape[1]-2\n",
    "#                     st.write(\"Inside extretree\")\n",
    "#                     x=data.drop(columns=prediction_column)\n",
    "#                     y=data[prediction_column]\n",
    "# # ***********************************************Updating criterion list******************************************\n",
    "#                     parameter_list=tuple(parameter_list)\n",
    "#                     st.write(\"working on download interface\")\n",
    "#                     st.write(\"working on download interface\")\n",
    "#                     st.write(\"working on download interface\")\n",
    "#                     print(\"working on download interface\")\n",
    "#                     print(\"working on download interface\")\n",
    "#                     print(\"working on download interface\")\n",
    "#                     print(\"working on download interface\")\n",
    "#                     print(\"working on download interface\")\n",
    "#                     print(\"working on download interface\")\n",
    "#                     print(\"working on download interface\")\n",
    "#                     print(\"working on download interface\")\n",
    "#                     print(\"working on download interface\")\n",
    "# # ***********************************************Updating MAx Feaute  list****************************************                  \n",
    "#                     # model=RandomForestRegressor\n",
    "#                     # if self.parameter_checkup(input_col,maxcol,x,y):\n",
    "#                     self.model_file=self.download_random_forest_regressor(x,y,parameter_list)\n",
    "#                     # model_file=self.download_random_forest_regressor(x,y,parameter_list)\n",
    "#                     # self.download_model(model_file  )\n",
    "#                 else:\n",
    "#                      print(\"submit not working\")\n",
    "#                      print(\"submit not working\")\n",
    "#                      print(\"submit not working\")\n",
    "#                      print(\"submit not working\")\n",
    "#         # download_model_button=st.download_button(\"Download Your model \", data=file,on_click=self.download_model(self.model_file))\n",
    "#         dbu=st.button(\"donwload\")\n",
    "#         if dbu:    \n",
    "#             #  btn=st.download_button(\"Download Model\",data=pickle.dumps(self.model_file),file_name=\"model.pkl\", )\n",
    "#             pass\n",
    "    "
   ]
  }
 ],
 "metadata": {
  "kernelspec": {
   "display_name": "Python 3.9.6 64-bit",
   "language": "python",
   "name": "python3"
  },
  "language_info": {
   "codemirror_mode": {
    "name": "ipython",
    "version": 3
   },
   "file_extension": ".py",
   "mimetype": "text/x-python",
   "name": "python",
   "nbconvert_exporter": "python",
   "pygments_lexer": "ipython3",
   "version": "3.9.6"
  },
  "orig_nbformat": 4,
  "vscode": {
   "interpreter": {
    "hash": "52634da84371cba311ea128a5ea7cdc41ff074b781779e754b270ff9f8153cee"
   }
  }
 },
 "nbformat": 4,
 "nbformat_minor": 2
}
